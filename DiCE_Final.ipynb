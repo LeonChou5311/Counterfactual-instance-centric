{
  "nbformat": 4,
  "nbformat_minor": 0,
  "metadata": {
    "colab": {
      "name": "DiCE_Final.ipynb",
      "provenance": [],
      "collapsed_sections": []
    },
    "kernelspec": {
      "display_name": "Python 3",
      "name": "python3"
    },
    "language_info": {
      "name": "python"
    }
  },
  "cells": [
    {
      "cell_type": "markdown",
      "metadata": {
        "id": "W2jn9qyEikwO"
      },
      "source": [
        "# DiCE/ LIME/ confusion matrix"
      ]
    },
    {
      "cell_type": "code",
      "metadata": {
        "colab": {
          "base_uri": "https://localhost:8080/"
        },
        "id": "UglcEL4Nibuj",
        "outputId": "f2a347ef-d923-432e-f13c-f5ac9dc80c1a"
      },
      "source": [
        "!pip3 install tensorflow"
      ],
      "execution_count": null,
      "outputs": [
        {
          "output_type": "stream",
          "text": [
            "Requirement already satisfied: tensorflow in /usr/local/lib/python3.7/dist-packages (2.4.2)\n",
            "Requirement already satisfied: protobuf>=3.9.2 in /usr/local/lib/python3.7/dist-packages (from tensorflow) (3.12.4)\n",
            "Requirement already satisfied: typing-extensions~=3.7.4 in /usr/local/lib/python3.7/dist-packages (from tensorflow) (3.7.4.3)\n",
            "Requirement already satisfied: astunparse~=1.6.3 in /usr/local/lib/python3.7/dist-packages (from tensorflow) (1.6.3)\n",
            "Requirement already satisfied: flatbuffers~=1.12.0 in /usr/local/lib/python3.7/dist-packages (from tensorflow) (1.12)\n",
            "Requirement already satisfied: wheel~=0.35 in /usr/local/lib/python3.7/dist-packages (from tensorflow) (0.36.2)\n",
            "Requirement already satisfied: opt-einsum~=3.3.0 in /usr/local/lib/python3.7/dist-packages (from tensorflow) (3.3.0)\n",
            "Requirement already satisfied: h5py~=2.10.0 in /usr/local/lib/python3.7/dist-packages (from tensorflow) (2.10.0)\n",
            "Requirement already satisfied: numpy~=1.19.2 in /usr/local/lib/python3.7/dist-packages (from tensorflow) (1.19.5)\n",
            "Requirement already satisfied: six~=1.15.0 in /usr/local/lib/python3.7/dist-packages (from tensorflow) (1.15.0)\n",
            "Requirement already satisfied: keras-preprocessing~=1.1.2 in /usr/local/lib/python3.7/dist-packages (from tensorflow) (1.1.2)\n",
            "Requirement already satisfied: google-pasta~=0.2 in /usr/local/lib/python3.7/dist-packages (from tensorflow) (0.2.0)\n",
            "Requirement already satisfied: tensorflow-estimator<2.5.0,>=2.4.0 in /usr/local/lib/python3.7/dist-packages (from tensorflow) (2.4.0)\n",
            "Requirement already satisfied: absl-py~=0.10 in /usr/local/lib/python3.7/dist-packages (from tensorflow) (0.12.0)\n",
            "Requirement already satisfied: tensorboard~=2.4 in /usr/local/lib/python3.7/dist-packages (from tensorflow) (2.5.0)\n",
            "Requirement already satisfied: grpcio~=1.32.0 in /usr/local/lib/python3.7/dist-packages (from tensorflow) (1.32.0)\n",
            "Requirement already satisfied: termcolor~=1.1.0 in /usr/local/lib/python3.7/dist-packages (from tensorflow) (1.1.0)\n",
            "Requirement already satisfied: gast==0.3.3 in /usr/local/lib/python3.7/dist-packages (from tensorflow) (0.3.3)\n",
            "Requirement already satisfied: wrapt~=1.12.1 in /usr/local/lib/python3.7/dist-packages (from tensorflow) (1.12.1)\n",
            "Requirement already satisfied: setuptools in /usr/local/lib/python3.7/dist-packages (from protobuf>=3.9.2->tensorflow) (57.0.0)\n",
            "Requirement already satisfied: tensorboard-plugin-wit>=1.6.0 in /usr/local/lib/python3.7/dist-packages (from tensorboard~=2.4->tensorflow) (1.8.0)\n",
            "Requirement already satisfied: google-auth<2,>=1.6.3 in /usr/local/lib/python3.7/dist-packages (from tensorboard~=2.4->tensorflow) (1.31.0)\n",
            "Requirement already satisfied: tensorboard-data-server<0.7.0,>=0.6.0 in /usr/local/lib/python3.7/dist-packages (from tensorboard~=2.4->tensorflow) (0.6.1)\n",
            "Requirement already satisfied: markdown>=2.6.8 in /usr/local/lib/python3.7/dist-packages (from tensorboard~=2.4->tensorflow) (3.3.4)\n",
            "Requirement already satisfied: werkzeug>=0.11.15 in /usr/local/lib/python3.7/dist-packages (from tensorboard~=2.4->tensorflow) (1.0.1)\n",
            "Requirement already satisfied: google-auth-oauthlib<0.5,>=0.4.1 in /usr/local/lib/python3.7/dist-packages (from tensorboard~=2.4->tensorflow) (0.4.4)\n",
            "Requirement already satisfied: requests<3,>=2.21.0 in /usr/local/lib/python3.7/dist-packages (from tensorboard~=2.4->tensorflow) (2.23.0)\n",
            "Requirement already satisfied: rsa<5,>=3.1.4; python_version >= \"3.6\" in /usr/local/lib/python3.7/dist-packages (from google-auth<2,>=1.6.3->tensorboard~=2.4->tensorflow) (4.7.2)\n",
            "Requirement already satisfied: cachetools<5.0,>=2.0.0 in /usr/local/lib/python3.7/dist-packages (from google-auth<2,>=1.6.3->tensorboard~=2.4->tensorflow) (4.2.2)\n",
            "Requirement already satisfied: pyasn1-modules>=0.2.1 in /usr/local/lib/python3.7/dist-packages (from google-auth<2,>=1.6.3->tensorboard~=2.4->tensorflow) (0.2.8)\n",
            "Requirement already satisfied: importlib-metadata; python_version < \"3.8\" in /usr/local/lib/python3.7/dist-packages (from markdown>=2.6.8->tensorboard~=2.4->tensorflow) (4.5.0)\n",
            "Requirement already satisfied: requests-oauthlib>=0.7.0 in /usr/local/lib/python3.7/dist-packages (from google-auth-oauthlib<0.5,>=0.4.1->tensorboard~=2.4->tensorflow) (1.3.0)\n",
            "Requirement already satisfied: idna<3,>=2.5 in /usr/local/lib/python3.7/dist-packages (from requests<3,>=2.21.0->tensorboard~=2.4->tensorflow) (2.10)\n",
            "Requirement already satisfied: chardet<4,>=3.0.2 in /usr/local/lib/python3.7/dist-packages (from requests<3,>=2.21.0->tensorboard~=2.4->tensorflow) (3.0.4)\n",
            "Requirement already satisfied: urllib3!=1.25.0,!=1.25.1,<1.26,>=1.21.1 in /usr/local/lib/python3.7/dist-packages (from requests<3,>=2.21.0->tensorboard~=2.4->tensorflow) (1.24.3)\n",
            "Requirement already satisfied: certifi>=2017.4.17 in /usr/local/lib/python3.7/dist-packages (from requests<3,>=2.21.0->tensorboard~=2.4->tensorflow) (2021.5.30)\n",
            "Requirement already satisfied: pyasn1>=0.1.3 in /usr/local/lib/python3.7/dist-packages (from rsa<5,>=3.1.4; python_version >= \"3.6\"->google-auth<2,>=1.6.3->tensorboard~=2.4->tensorflow) (0.4.8)\n",
            "Requirement already satisfied: zipp>=0.5 in /usr/local/lib/python3.7/dist-packages (from importlib-metadata; python_version < \"3.8\"->markdown>=2.6.8->tensorboard~=2.4->tensorflow) (3.4.1)\n",
            "Requirement already satisfied: oauthlib>=3.0.0 in /usr/local/lib/python3.7/dist-packages (from requests-oauthlib>=0.7.0->google-auth-oauthlib<0.5,>=0.4.1->tensorboard~=2.4->tensorflow) (3.1.1)\n"
          ],
          "name": "stdout"
        }
      ]
    },
    {
      "cell_type": "code",
      "metadata": {
        "colab": {
          "base_uri": "https://localhost:8080/"
        },
        "id": "JQwSKt0MisQy",
        "outputId": "ad9b8f5c-b8f6-4327-d177-bd689b1f8c79"
      },
      "source": [
        "############# Initialise on Google Colab \n",
        "\n",
        "from google.colab import drive\n",
        "from pydrive.auth import GoogleAuth\n",
        "from pydrive.drive import GoogleDrive\n",
        "from google.colab import auth\n",
        "from oauth2client.client import GoogleCredentials\n",
        "from pydrive.auth import GoogleAuth\n",
        "from pydrive.drive import GoogleDrive\n",
        "from google.colab import auth\n",
        "from oauth2client.client import GoogleCredentials \n",
        "drive.mount('/content/gdrive', force_remount=True)\n",
        "auth.authenticate_user()\n",
        "gauth = GoogleAuth()\n",
        "gauth.credentials = GoogleCredentials.get_application_default()\n",
        "gdrive = GoogleDrive(gauth)\n",
        "gdrive.CreateFile({\"id\": \"1wwSN3AIl_dmayKENu5jnc1BRaNPe8BZc\"}).GetContentFile(\"learning.py\")"
      ],
      "execution_count": null,
      "outputs": [
        {
          "output_type": "stream",
          "text": [
            "Mounted at /content/gdrive\n"
          ],
          "name": "stdout"
        }
      ]
    },
    {
      "cell_type": "code",
      "metadata": {
        "colab": {
          "base_uri": "https://localhost:8080/"
        },
        "id": "1eTUICVVisZO",
        "outputId": "e05bfd9e-e8aa-4bee-ec48-352d070c95cc"
      },
      "source": [
        "############# install package\n",
        "!pip install dice_ml\n",
        "!pip install alibi\n",
        "!pip install pyAgrum"
      ],
      "execution_count": null,
      "outputs": [
        {
          "output_type": "stream",
          "text": [
            "Requirement already satisfied: dice_ml in /usr/local/lib/python3.7/dist-packages (0.6.1)\n",
            "Requirement already satisfied: numpy in /usr/local/lib/python3.7/dist-packages (from dice_ml) (1.19.5)\n",
            "Requirement already satisfied: scikit-learn in /usr/local/lib/python3.7/dist-packages (from dice_ml) (0.22.2.post1)\n",
            "Requirement already satisfied: pandas in /usr/local/lib/python3.7/dist-packages (from dice_ml) (1.1.5)\n",
            "Requirement already satisfied: tqdm in /usr/local/lib/python3.7/dist-packages (from dice_ml) (4.41.1)\n",
            "Requirement already satisfied: h5py in /usr/local/lib/python3.7/dist-packages (from dice_ml) (2.10.0)\n",
            "Requirement already satisfied: joblib>=0.11 in /usr/local/lib/python3.7/dist-packages (from scikit-learn->dice_ml) (1.0.1)\n",
            "Requirement already satisfied: scipy>=0.17.0 in /usr/local/lib/python3.7/dist-packages (from scikit-learn->dice_ml) (1.4.1)\n",
            "Requirement already satisfied: python-dateutil>=2.7.3 in /usr/local/lib/python3.7/dist-packages (from pandas->dice_ml) (2.8.1)\n",
            "Requirement already satisfied: pytz>=2017.2 in /usr/local/lib/python3.7/dist-packages (from pandas->dice_ml) (2018.9)\n",
            "Requirement already satisfied: six in /usr/local/lib/python3.7/dist-packages (from h5py->dice_ml) (1.15.0)\n",
            "Requirement already satisfied: alibi in /usr/local/lib/python3.7/dist-packages (0.5.8)\n",
            "Requirement already satisfied: matplotlib<4.0.0,>=3.0.0 in /usr/local/lib/python3.7/dist-packages (from alibi) (3.2.2)\n",
            "Requirement already satisfied: requests<3.0.0,>=2.21.0 in /usr/local/lib/python3.7/dist-packages (from alibi) (2.23.0)\n",
            "Requirement already satisfied: dill<0.4.0,>=0.3.0 in /usr/local/lib/python3.7/dist-packages (from alibi) (0.3.4)\n",
            "Requirement already satisfied: attrs<21.0.0,>=19.2.0 in /usr/local/lib/python3.7/dist-packages (from alibi) (20.3.0)\n",
            "Requirement already satisfied: numpy<2.0.0,>=1.16.2 in /usr/local/lib/python3.7/dist-packages (from alibi) (1.19.5)\n",
            "Requirement already satisfied: tensorflow<2.5.0,>=2.0.0 in /usr/local/lib/python3.7/dist-packages (from alibi) (2.4.2)\n",
            "Requirement already satisfied: spacy[lookups]<4.0.0,>=2.0.0 in /usr/local/lib/python3.7/dist-packages (from alibi) (2.2.4)\n",
            "Requirement already satisfied: typing-extensions>=3.7.2; python_version < \"3.8\" in /usr/local/lib/python3.7/dist-packages (from alibi) (3.7.4.3)\n",
            "Requirement already satisfied: scipy<2.0.0,>=1.1.0 in /usr/local/lib/python3.7/dist-packages (from alibi) (1.4.1)\n",
            "Requirement already satisfied: scikit-learn<0.25.0,>=0.20.2 in /usr/local/lib/python3.7/dist-packages (from alibi) (0.22.2.post1)\n",
            "Requirement already satisfied: scikit-image!=0.17.1,<0.19,>=0.14.2 in /usr/local/lib/python3.7/dist-packages (from alibi) (0.16.2)\n",
            "Requirement already satisfied: Pillow<9.0,>=5.4.1 in /usr/local/lib/python3.7/dist-packages (from alibi) (7.1.2)\n",
            "Requirement already satisfied: pandas<2.0.0,>=0.23.3 in /usr/local/lib/python3.7/dist-packages (from alibi) (1.1.5)\n",
            "Requirement already satisfied: pyparsing!=2.0.4,!=2.1.2,!=2.1.6,>=2.0.1 in /usr/local/lib/python3.7/dist-packages (from matplotlib<4.0.0,>=3.0.0->alibi) (2.4.7)\n",
            "Requirement already satisfied: python-dateutil>=2.1 in /usr/local/lib/python3.7/dist-packages (from matplotlib<4.0.0,>=3.0.0->alibi) (2.8.1)\n",
            "Requirement already satisfied: cycler>=0.10 in /usr/local/lib/python3.7/dist-packages (from matplotlib<4.0.0,>=3.0.0->alibi) (0.10.0)\n",
            "Requirement already satisfied: kiwisolver>=1.0.1 in /usr/local/lib/python3.7/dist-packages (from matplotlib<4.0.0,>=3.0.0->alibi) (1.3.1)\n",
            "Requirement already satisfied: chardet<4,>=3.0.2 in /usr/local/lib/python3.7/dist-packages (from requests<3.0.0,>=2.21.0->alibi) (3.0.4)\n",
            "Requirement already satisfied: certifi>=2017.4.17 in /usr/local/lib/python3.7/dist-packages (from requests<3.0.0,>=2.21.0->alibi) (2021.5.30)\n",
            "Requirement already satisfied: urllib3!=1.25.0,!=1.25.1,<1.26,>=1.21.1 in /usr/local/lib/python3.7/dist-packages (from requests<3.0.0,>=2.21.0->alibi) (1.24.3)\n",
            "Requirement already satisfied: idna<3,>=2.5 in /usr/local/lib/python3.7/dist-packages (from requests<3.0.0,>=2.21.0->alibi) (2.10)\n",
            "Requirement already satisfied: grpcio~=1.32.0 in /usr/local/lib/python3.7/dist-packages (from tensorflow<2.5.0,>=2.0.0->alibi) (1.32.0)\n",
            "Requirement already satisfied: google-pasta~=0.2 in /usr/local/lib/python3.7/dist-packages (from tensorflow<2.5.0,>=2.0.0->alibi) (0.2.0)\n",
            "Requirement already satisfied: termcolor~=1.1.0 in /usr/local/lib/python3.7/dist-packages (from tensorflow<2.5.0,>=2.0.0->alibi) (1.1.0)\n",
            "Requirement already satisfied: wheel~=0.35 in /usr/local/lib/python3.7/dist-packages (from tensorflow<2.5.0,>=2.0.0->alibi) (0.36.2)\n",
            "Requirement already satisfied: wrapt~=1.12.1 in /usr/local/lib/python3.7/dist-packages (from tensorflow<2.5.0,>=2.0.0->alibi) (1.12.1)\n",
            "Requirement already satisfied: tensorflow-estimator<2.5.0,>=2.4.0 in /usr/local/lib/python3.7/dist-packages (from tensorflow<2.5.0,>=2.0.0->alibi) (2.4.0)\n",
            "Requirement already satisfied: gast==0.3.3 in /usr/local/lib/python3.7/dist-packages (from tensorflow<2.5.0,>=2.0.0->alibi) (0.3.3)\n",
            "Requirement already satisfied: opt-einsum~=3.3.0 in /usr/local/lib/python3.7/dist-packages (from tensorflow<2.5.0,>=2.0.0->alibi) (3.3.0)\n",
            "Requirement already satisfied: flatbuffers~=1.12.0 in /usr/local/lib/python3.7/dist-packages (from tensorflow<2.5.0,>=2.0.0->alibi) (1.12)\n",
            "Requirement already satisfied: keras-preprocessing~=1.1.2 in /usr/local/lib/python3.7/dist-packages (from tensorflow<2.5.0,>=2.0.0->alibi) (1.1.2)\n",
            "Requirement already satisfied: h5py~=2.10.0 in /usr/local/lib/python3.7/dist-packages (from tensorflow<2.5.0,>=2.0.0->alibi) (2.10.0)\n",
            "Requirement already satisfied: protobuf>=3.9.2 in /usr/local/lib/python3.7/dist-packages (from tensorflow<2.5.0,>=2.0.0->alibi) (3.12.4)\n",
            "Requirement already satisfied: astunparse~=1.6.3 in /usr/local/lib/python3.7/dist-packages (from tensorflow<2.5.0,>=2.0.0->alibi) (1.6.3)\n",
            "Requirement already satisfied: absl-py~=0.10 in /usr/local/lib/python3.7/dist-packages (from tensorflow<2.5.0,>=2.0.0->alibi) (0.12.0)\n",
            "Requirement already satisfied: six~=1.15.0 in /usr/local/lib/python3.7/dist-packages (from tensorflow<2.5.0,>=2.0.0->alibi) (1.15.0)\n",
            "Requirement already satisfied: tensorboard~=2.4 in /usr/local/lib/python3.7/dist-packages (from tensorflow<2.5.0,>=2.0.0->alibi) (2.5.0)\n",
            "Requirement already satisfied: tqdm<5.0.0,>=4.38.0 in /usr/local/lib/python3.7/dist-packages (from spacy[lookups]<4.0.0,>=2.0.0->alibi) (4.41.1)\n",
            "Requirement already satisfied: setuptools in /usr/local/lib/python3.7/dist-packages (from spacy[lookups]<4.0.0,>=2.0.0->alibi) (57.0.0)\n",
            "Requirement already satisfied: blis<0.5.0,>=0.4.0 in /usr/local/lib/python3.7/dist-packages (from spacy[lookups]<4.0.0,>=2.0.0->alibi) (0.4.1)\n",
            "Requirement already satisfied: thinc==7.4.0 in /usr/local/lib/python3.7/dist-packages (from spacy[lookups]<4.0.0,>=2.0.0->alibi) (7.4.0)\n",
            "Requirement already satisfied: plac<1.2.0,>=0.9.6 in /usr/local/lib/python3.7/dist-packages (from spacy[lookups]<4.0.0,>=2.0.0->alibi) (1.1.3)\n",
            "Requirement already satisfied: cymem<2.1.0,>=2.0.2 in /usr/local/lib/python3.7/dist-packages (from spacy[lookups]<4.0.0,>=2.0.0->alibi) (2.0.5)\n",
            "Requirement already satisfied: srsly<1.1.0,>=1.0.2 in /usr/local/lib/python3.7/dist-packages (from spacy[lookups]<4.0.0,>=2.0.0->alibi) (1.0.5)\n",
            "Requirement already satisfied: murmurhash<1.1.0,>=0.28.0 in /usr/local/lib/python3.7/dist-packages (from spacy[lookups]<4.0.0,>=2.0.0->alibi) (1.0.5)\n",
            "Requirement already satisfied: preshed<3.1.0,>=3.0.2 in /usr/local/lib/python3.7/dist-packages (from spacy[lookups]<4.0.0,>=2.0.0->alibi) (3.0.5)\n",
            "Requirement already satisfied: catalogue<1.1.0,>=0.0.7 in /usr/local/lib/python3.7/dist-packages (from spacy[lookups]<4.0.0,>=2.0.0->alibi) (1.0.0)\n",
            "Requirement already satisfied: wasabi<1.1.0,>=0.4.0 in /usr/local/lib/python3.7/dist-packages (from spacy[lookups]<4.0.0,>=2.0.0->alibi) (0.8.2)\n",
            "Requirement already satisfied: spacy-lookups-data<0.2.0,>=0.0.5; extra == \"lookups\" in /usr/local/lib/python3.7/dist-packages (from spacy[lookups]<4.0.0,>=2.0.0->alibi) (0.1.0)\n",
            "Requirement already satisfied: joblib>=0.11 in /usr/local/lib/python3.7/dist-packages (from scikit-learn<0.25.0,>=0.20.2->alibi) (1.0.1)\n",
            "Requirement already satisfied: PyWavelets>=0.4.0 in /usr/local/lib/python3.7/dist-packages (from scikit-image!=0.17.1,<0.19,>=0.14.2->alibi) (1.1.1)\n",
            "Requirement already satisfied: imageio>=2.3.0 in /usr/local/lib/python3.7/dist-packages (from scikit-image!=0.17.1,<0.19,>=0.14.2->alibi) (2.4.1)\n",
            "Requirement already satisfied: networkx>=2.0 in /usr/local/lib/python3.7/dist-packages (from scikit-image!=0.17.1,<0.19,>=0.14.2->alibi) (2.5.1)\n",
            "Requirement already satisfied: pytz>=2017.2 in /usr/local/lib/python3.7/dist-packages (from pandas<2.0.0,>=0.23.3->alibi) (2018.9)\n",
            "Requirement already satisfied: tensorboard-plugin-wit>=1.6.0 in /usr/local/lib/python3.7/dist-packages (from tensorboard~=2.4->tensorflow<2.5.0,>=2.0.0->alibi) (1.8.0)\n",
            "Requirement already satisfied: google-auth-oauthlib<0.5,>=0.4.1 in /usr/local/lib/python3.7/dist-packages (from tensorboard~=2.4->tensorflow<2.5.0,>=2.0.0->alibi) (0.4.4)\n",
            "Requirement already satisfied: markdown>=2.6.8 in /usr/local/lib/python3.7/dist-packages (from tensorboard~=2.4->tensorflow<2.5.0,>=2.0.0->alibi) (3.3.4)\n",
            "Requirement already satisfied: google-auth<2,>=1.6.3 in /usr/local/lib/python3.7/dist-packages (from tensorboard~=2.4->tensorflow<2.5.0,>=2.0.0->alibi) (1.31.0)\n",
            "Requirement already satisfied: tensorboard-data-server<0.7.0,>=0.6.0 in /usr/local/lib/python3.7/dist-packages (from tensorboard~=2.4->tensorflow<2.5.0,>=2.0.0->alibi) (0.6.1)\n",
            "Requirement already satisfied: werkzeug>=0.11.15 in /usr/local/lib/python3.7/dist-packages (from tensorboard~=2.4->tensorflow<2.5.0,>=2.0.0->alibi) (1.0.1)\n",
            "Requirement already satisfied: importlib-metadata>=0.20; python_version < \"3.8\" in /usr/local/lib/python3.7/dist-packages (from catalogue<1.1.0,>=0.0.7->spacy[lookups]<4.0.0,>=2.0.0->alibi) (4.5.0)\n",
            "Requirement already satisfied: decorator<5,>=4.3 in /usr/local/lib/python3.7/dist-packages (from networkx>=2.0->scikit-image!=0.17.1,<0.19,>=0.14.2->alibi) (4.4.2)\n",
            "Requirement already satisfied: requests-oauthlib>=0.7.0 in /usr/local/lib/python3.7/dist-packages (from google-auth-oauthlib<0.5,>=0.4.1->tensorboard~=2.4->tensorflow<2.5.0,>=2.0.0->alibi) (1.3.0)\n",
            "Requirement already satisfied: rsa<5,>=3.1.4; python_version >= \"3.6\" in /usr/local/lib/python3.7/dist-packages (from google-auth<2,>=1.6.3->tensorboard~=2.4->tensorflow<2.5.0,>=2.0.0->alibi) (4.7.2)\n",
            "Requirement already satisfied: cachetools<5.0,>=2.0.0 in /usr/local/lib/python3.7/dist-packages (from google-auth<2,>=1.6.3->tensorboard~=2.4->tensorflow<2.5.0,>=2.0.0->alibi) (4.2.2)\n",
            "Requirement already satisfied: pyasn1-modules>=0.2.1 in /usr/local/lib/python3.7/dist-packages (from google-auth<2,>=1.6.3->tensorboard~=2.4->tensorflow<2.5.0,>=2.0.0->alibi) (0.2.8)\n",
            "Requirement already satisfied: zipp>=0.5 in /usr/local/lib/python3.7/dist-packages (from importlib-metadata>=0.20; python_version < \"3.8\"->catalogue<1.1.0,>=0.0.7->spacy[lookups]<4.0.0,>=2.0.0->alibi) (3.4.1)\n",
            "Requirement already satisfied: oauthlib>=3.0.0 in /usr/local/lib/python3.7/dist-packages (from requests-oauthlib>=0.7.0->google-auth-oauthlib<0.5,>=0.4.1->tensorboard~=2.4->tensorflow<2.5.0,>=2.0.0->alibi) (3.1.1)\n",
            "Requirement already satisfied: pyasn1>=0.1.3 in /usr/local/lib/python3.7/dist-packages (from rsa<5,>=3.1.4; python_version >= \"3.6\"->google-auth<2,>=1.6.3->tensorboard~=2.4->tensorflow<2.5.0,>=2.0.0->alibi) (0.4.8)\n",
            "Requirement already satisfied: pyAgrum in /usr/local/lib/python3.7/dist-packages (0.20.3)\n",
            "Requirement already satisfied: configparser in /usr/local/lib/python3.7/dist-packages (from pyAgrum) (5.0.2)\n",
            "Requirement already satisfied: numpy>=1.8.1 in /usr/local/lib/python3.7/dist-packages (from pyAgrum) (1.19.5)\n",
            "Requirement already satisfied: six in /usr/local/lib/python3.7/dist-packages (from pyAgrum) (1.15.0)\n"
          ],
          "name": "stdout"
        }
      ]
    },
    {
      "cell_type": "code",
      "metadata": {
        "colab": {
          "base_uri": "https://localhost:8080/"
        },
        "id": "9aDggdA4isbT",
        "outputId": "a551aa53-945b-4e9c-e123-b586ad273487"
      },
      "source": [
        "############# import the library\n",
        "import tensorflow as tf\n",
        "import dice_ml\n",
        "import pandas as pd\n",
        "tf.get_logger().setLevel(40) # suppress deprecation messages\n",
        "#tf.compat.v1.disable_v2_behavior() # disable TF2 behaviour as alibi code still relies on TF1 constructs\n",
        "from tensorflow.keras.layers import Dense, Input\n",
        "from tensorflow.keras.models import Model, load_model\n",
        "from tensorflow.keras.utils import to_categorical\n",
        "import matplotlib\n",
        "%matplotlib inline\n",
        "import matplotlib.pyplot as plt\n",
        "import numpy as np\n",
        "import os\n",
        "from sklearn.datasets import load_boston\n",
        "import pandas as pd\n",
        "from sklearn.preprocessing import OneHotEncoder, StandardScaler,MinMaxScaler\n",
        "from learning import encode_data \n",
        "from learning import *\n",
        "print('TF version: ', tf.__version__)\n",
        "print('Eager execution enabled: ', tf.executing_eagerly()) # False\n",
        "seed = 123\n",
        "tf.random.set_seed(seed)\n",
        "np.random.seed(seed)\n"
      ],
      "execution_count": null,
      "outputs": [
        {
          "output_type": "stream",
          "text": [
            "TF version:  2.4.2\n",
            "Eager execution enabled:  True\n"
          ],
          "name": "stdout"
        }
      ]
    },
    {
      "cell_type": "markdown",
      "metadata": {
        "id": "QKZcgs61jAf2"
      },
      "source": [
        "## **Load Diabetes dataset**"
      ]
    },
    {
      "cell_type": "code",
      "metadata": {
        "id": "Hx5wxdDrisdm"
      },
      "source": [
        "from google.colab import drive \n",
        "# drive.mount('/content/gdrive') \n",
        "data=pd.read_csv('gdrive/My Drive//Counterfactual-prototype-main/datasets/diabetes.csv')"
      ],
      "execution_count": null,
      "outputs": []
    },
    {
      "cell_type": "code",
      "metadata": {
        "colab": {
          "base_uri": "https://localhost:8080/"
        },
        "id": "SWP9VkcJisgE",
        "outputId": "0d5e5fb9-bb3e-4e16-c11a-7ad65ad06f83"
      },
      "source": [
        "# Giving current root path\n",
        "# PATH = \"./\"\n",
        "PATH = \"gdrive/My Drive//Counterfactual-prototype-main/\"\n",
        "# PATH = \"/Counterfactual-prototype-main/\"\n",
        "# name of dataset\n",
        "DATASET_NAME = \"diabetes.csv\"\n",
        "\n",
        "# variable containing the class labels in this case the dataset contains:\n",
        "# 0 - if not diabetes\n",
        "# 1 - if diabetes\n",
        "class_var = \"Outcome\"\n",
        "\n",
        "# load dataset\n",
        "dataset_path = PATH + \"datasets/\" + DATASET_NAME\n",
        "data = pd.read_csv( dataset_path )\n",
        "\n",
        "# features\n",
        "feature_names = data.drop([class_var], axis=1).columns.to_list()\n",
        "\n",
        "# balance dataset\n",
        "sampled_data = data.sample(frac=1)\n",
        "sampled_data = sampled_data[ sampled_data[\"Outcome\"] == 0]\n",
        "\n",
        "no_data = sampled_data.sample(frac=1)[0:268]\n",
        "yes_data = data[ data[\"Outcome\"] == 1]\n",
        "\n",
        "balanced_data = [no_data,yes_data]\n",
        "balanced_data = pd.concat(balanced_data)\n",
        "\n",
        "# apply one hot encoder to data\n",
        "# standardize the input between 0 and 1\n",
        "X, Y, encoder, scaler = encode_data( balanced_data, class_var)\n",
        "\n",
        "n_features = X.shape[1]\n",
        "n_classes = len(data[class_var].unique())\n",
        "\n",
        "# load existing training data\n",
        "print(\"Loading training data...\")\n",
        "X_train, Y_train, X_test, Y_test, X_validation, Y_validation= load_training_data( dataset_path )\n",
        "\n",
        "print(\"====================Features====================\")\n",
        "print(feature_names)\n",
        "print(\"================================================\")"
      ],
      "execution_count": null,
      "outputs": [
        {
          "output_type": "stream",
          "text": [
            "Loading training data...\n",
            "====================Features====================\n",
            "['Pregnancies', 'Glucose', 'BloodPressure', 'SkinThickness', 'Insulin', 'BMI', 'DiabetesPedigreeFunction', 'Age']\n",
            "================================================\n"
          ],
          "name": "stdout"
        }
      ]
    },
    {
      "cell_type": "code",
      "metadata": {
        "colab": {
          "base_uri": "https://localhost:8080/"
        },
        "id": "Vykd_5YGisiK",
        "outputId": "15e4b529-8626-4429-ea53-559d8e15fba3"
      },
      "source": [
        "# the best performing model was obtained with 5 hidden layers with 12 neurons each\n",
        "model_name = \"model_h5_N12\"\n",
        "\n",
        "# specify paths where the blackbox model was saved\n",
        "path_serialisation_model = PATH + \"training/\" + DATASET_NAME.replace(\".csv\", \"\") + \"/model/\" \n",
        "path_serialisation_histr = PATH + \"training/\" + DATASET_NAME.replace(\".csv\", \"\") + \"/history/\" \n",
        "\n",
        "# load model and model performance history\n",
        "print(\"Loading Blackbox model...\")\n",
        "model_history = load_model_history( model_name, path_serialisation_histr )\n",
        "model = load_model( model_name, path_serialisation_model )\n",
        "\n",
        "# check modelxw\n",
        "model.summary()"
      ],
      "execution_count": null,
      "outputs": [
        {
          "output_type": "stream",
          "text": [
            "Loading Blackbox model...\n",
            "Loaded model from disk\n",
            "Model: \"model_h5_N12\"\n",
            "_________________________________________________________________\n",
            "Layer (type)                 Output Shape              Param #   \n",
            "=================================================================\n",
            "dense_293 (Dense)            (None, 12)                108       \n",
            "_________________________________________________________________\n",
            "dense_294 (Dense)            (None, 12)                156       \n",
            "_________________________________________________________________\n",
            "dense_295 (Dense)            (None, 12)                156       \n",
            "_________________________________________________________________\n",
            "dense_296 (Dense)            (None, 12)                156       \n",
            "_________________________________________________________________\n",
            "dense_297 (Dense)            (None, 12)                156       \n",
            "_________________________________________________________________\n",
            "dense_298 (Dense)            (None, 12)                156       \n",
            "_________________________________________________________________\n",
            "dense_299 (Dense)            (None, 2)                 26        \n",
            "=================================================================\n",
            "Total params: 914\n",
            "Trainable params: 914\n",
            "Non-trainable params: 0\n",
            "_________________________________________________________________\n"
          ],
          "name": "stdout"
        }
      ]
    },
    {
      "cell_type": "markdown",
      "metadata": {
        "id": "lGLd-2IbjXVX"
      },
      "source": [
        "## **Load trained model**"
      ]
    },
    {
      "cell_type": "code",
      "metadata": {
        "colab": {
          "base_uri": "https://localhost:8080/"
        },
        "id": "5af4aZj4iskg",
        "outputId": "e1143732-ce7e-4631-d7d3-4a6eebded6ca"
      },
      "source": [
        "# the best performing model was obtained with 5 hidden layers with 12 neurons each\n",
        "model_name = \"model_h5_N12\"\n",
        "\n",
        "# specify paths where the blackbox model was saved\n",
        "path_serialisation_model = PATH + \"training/\" + DATASET_NAME.replace(\".csv\", \"\") + \"/model/\" \n",
        "path_serialisation_histr = PATH + \"training/\" + DATASET_NAME.replace(\".csv\", \"\") + \"/history/\" \n",
        "\n",
        "# load model and model performance history\n",
        "print(\"Loading Blackbox model...\")\n",
        "model_history = load_model_history( model_name, path_serialisation_histr )\n",
        "model = load_model( model_name, path_serialisation_model )\n",
        "\n",
        "# check modelxw\n",
        "model.summary()"
      ],
      "execution_count": null,
      "outputs": [
        {
          "output_type": "stream",
          "text": [
            "Loading Blackbox model...\n",
            "Loaded model from disk\n",
            "Model: \"model_h5_N12\"\n",
            "_________________________________________________________________\n",
            "Layer (type)                 Output Shape              Param #   \n",
            "=================================================================\n",
            "dense_293 (Dense)            (None, 12)                108       \n",
            "_________________________________________________________________\n",
            "dense_294 (Dense)            (None, 12)                156       \n",
            "_________________________________________________________________\n",
            "dense_295 (Dense)            (None, 12)                156       \n",
            "_________________________________________________________________\n",
            "dense_296 (Dense)            (None, 12)                156       \n",
            "_________________________________________________________________\n",
            "dense_297 (Dense)            (None, 12)                156       \n",
            "_________________________________________________________________\n",
            "dense_298 (Dense)            (None, 12)                156       \n",
            "_________________________________________________________________\n",
            "dense_299 (Dense)            (None, 2)                 26        \n",
            "=================================================================\n",
            "Total params: 914\n",
            "Trainable params: 914\n",
            "Non-trainable params: 0\n",
            "_________________________________________________________________\n"
          ],
          "name": "stdout"
        }
      ]
    },
    {
      "cell_type": "code",
      "metadata": {
        "id": "5kQkEWBim894"
      },
      "source": [
        "from enum import Enum\n",
        "class PredictionType(Enum):\n",
        "  TruePositive = \"TruePositive\"\n",
        "  TrueNegative = \"TrueNegative\"\n",
        "  FalsePositive = \"FalsePositive\"\n",
        "  FalseNegative = \"FalseNegative\"\n",
        "  \n",
        "class AllPacks(object):\n",
        "  '''\n",
        "  Class for storing cases in different prediction type\n",
        "\n",
        "  '''\n",
        "  def __init__(self, true_positives,true_negatives, false_positives, false_negatives):\n",
        "    # constructor\n",
        "    self.true_positives = true_positives\n",
        "    self.true_negatives = true_negatives\n",
        "    self.false_positives = false_positives\n",
        "    self.false_negatives = false_negatives\n",
        "  def __len__(self,):\n",
        "    return len(self.true_positives)\\\n",
        "    +len(self.true_negatives)\\\n",
        "    +len(self.false_positives)\\\n",
        "    +len(self.false_negatives)\n",
        "    \n",
        "  def true_positives_len(self,):\n",
        "    return len(self.true_positives)\n",
        "\n",
        "  def get_len(self, p_t):\n",
        "    if p_t == PredictionType.TruePositive:\n",
        "      return self.true_positives_len()\n",
        "    elif p_t == PredictionType.TrueNegative:\n",
        "      return self.true_negatives_len()\n",
        "    elif p_t == PredictionType.FalsePositive:\n",
        "      return self.false_positives_len()\n",
        "    elif p_t == PredictionType.FalseNegative:\n",
        "      return self.false_negatives_len()\n",
        "    else:\n",
        "      raise NotImplemented('This prediction type is unsupported.');\n",
        "\n",
        "  def true_negatives_len(self,):\n",
        "    return len(self.true_negatives)\n",
        "  \n",
        "  def false_negatives_len(self,):\n",
        "    return len(self.false_negatives)\n",
        "  \n",
        "  def false_positives_len(self,):\n",
        "    return len(self.false_positives)\n",
        "\n",
        "  def get_instance(self, p_t, index):\n",
        "    if p_t == PredictionType.TruePositive:\n",
        "      return self.get_true_positive(index)\n",
        "    elif p_t == PredictionType.TrueNegative:\n",
        "      return self.get_true_negative(index)\n",
        "    elif p_t == PredictionType.FalsePositive:\n",
        "      return self.get_false_positive(index)\n",
        "    elif p_t == PredictionType.FalseNegative:\n",
        "      return self.get_false_nagative(index)\n",
        "    else:\n",
        "      raise NotImplemented('This prediction type is unsupported.');\n",
        "\n",
        "  def get_true_positive(self, index = 0):\n",
        "    try:\n",
        "      return self.true_positives[index]\n",
        "    except:\n",
        "      raise ValueError(\"Input index out of range, true positive only have [%d] cases\" % (self.true_positives_len()))\n",
        "  def get_true_negative(self, index = 0):\n",
        "    try:\n",
        "      return self.true_negatives[index]\n",
        "    except:\n",
        "      raise ValueError(\"Input index out of range, true negative only have [%d] cases\" % (self.true_negatives_len()))\n",
        "  def get_false_positive(self, index = 0):\n",
        "    try:\n",
        "      return self.false_positives[index]\n",
        "    except:\n",
        "      raise ValueError(\"Input index out of range, true positive only have [%d] cases\" % (self.false_positives_len()))\n",
        "  def get_false_nagative(self, index = 0):\n",
        "    try:\n",
        "      return self.false_negatives[index]\n",
        "    except:\n",
        "      raise ValueError(\"Input index out of range, true positive only have [%d] cases\" % (self.false_negatives_len()))"
      ],
      "execution_count": null,
      "outputs": []
    },
    {
      "cell_type": "code",
      "metadata": {
        "id": "81M-OmeXiL19"
      },
      "source": [
        ""
      ],
      "execution_count": null,
      "outputs": []
    },
    {
      "cell_type": "code",
      "metadata": {
        "id": "ZKJW2eOP8vdq"
      },
      "source": [
        "from copy import deepcopy\n",
        "from time import time\n",
        "class DiCECounterfactaulWrapper(object):\n",
        "  '''\n",
        "  Wrapper class to generate DiCE cf\n",
        "  '''\n",
        "  def __init__(self, dice_explainer):\n",
        "    self.dice_explainer__ =  dice_explainer\n",
        "  \n",
        "  def run_counterfactual_print_result(self, case):\n",
        "    return_case = deepcopy(case)\n",
        "    # print_block(\"\", \"Finding counterfactuals...\")\n",
        "    input_data = np.array([case[\"original_vector\"]])\n",
        "    start_time = time()\n",
        "    input_df = pd.DataFrame(input_data,columns=feature_names)\n",
        "    self.input_df = input_df\n",
        "    dice_exp = self.dice_explainer__.generate_counterfactuals(input_df, total_CFs=3,desired_class=\"opposite\",\n",
        "                                                              #proximity_weight=1.5, diversity_weight=1.0\n",
        "                                                              )\n",
        "    self.dice_exp = dice_exp\n",
        "    end_time = time()\n",
        "    time_took = end_time - start_time\n",
        "    # print_block(\"Time Took\", \"%.3f sec\" % (time_took))\n",
        "    if len(dice_exp.final_cfs_df) == 0:\n",
        "      # print_block(\"\", \"No counterfactaul found!\")\n",
        "      return_case['cf'] = [None] * input_data.shape[1]\n",
        "    else:  \n",
        "      # counterfactual = scaler.inverse_transform(list())\n",
        "      return_case['cf'] = list(dice_exp.final_cfs_df.iloc[0][:-1])\n",
        "\n",
        "    return_case['time'] = time_took\n",
        "    # self.print_counterfactual_results(case, counterfactual)\n",
        "    return return_case\n",
        "\n",
        "  def print_counterfactual_results(self, case, counterfactual):\n",
        "    print_block(\"Prediction type\", case[\"prediction_type\"], mark_times=7)\n",
        "    print_block(\"Black box prediction\", case[\"predictions\"], mark_times=3)\n",
        "    print_block(\"Ground truth\", case[\"ground_truth\"], mark_times= 5)\n",
        "    print_block(\"Oringal input\", pd.DataFrame([case[\"original_vector\"]], columns=feature_names),mark_times = 60)\n",
        "    print_block(\"Counterfactual\", pd.DataFrame(counterfactual, columns=feature_names), mark_times=60)"
      ],
      "execution_count": null,
      "outputs": []
    },
    {
      "cell_type": "code",
      "metadata": {
        "id": "vciAufHqnAM1"
      },
      "source": [
        "\n",
        "diabetes_feature_range = (X_train.min(axis=0), X_train.max(axis=0))\n",
        "# store all information \n",
        "local_data_dict = generate_local_predictions( X_test, Y_test, model, scaler, encoder )\n",
        "# sorting by different conditions\n",
        "true_positives,true_negatives, false_positives, false_negatives = wrap_information( local_data_dict )\n",
        "# get packs\n",
        "all_packs = AllPacks(true_positives,true_negatives, false_positives, false_negatives)"
      ],
      "execution_count": null,
      "outputs": []
    },
    {
      "cell_type": "code",
      "metadata": {
        "id": "YAfIh8mznH02"
      },
      "source": [
        "##### Utils #####\n",
        "def print_block(title, content, mark_times=20):\n",
        "  upper_line = mark_times*(\"=\") + title + mark_times*(\"=\")\n",
        "  bottom_line = len(upper_line) *\"=\"\n",
        "  print(upper_line)\n",
        "  if (type(content) == pd.DataFrame):\n",
        "    display(content)\n",
        "  else:\n",
        "    print(\"| \\t\" + str(content))\n",
        "  print(bottom_line)\n",
        "  print(\"\\n\")"
      ],
      "execution_count": null,
      "outputs": []
    },
    {
      "cell_type": "code",
      "metadata": {
        "colab": {
          "base_uri": "https://localhost:8080/"
        },
        "id": "-zXakNO2nhYQ",
        "outputId": "f2c1727f-417f-4f97-e7f4-d7286672123a"
      },
      "source": [
        "class People:\n",
        "  def __init__(self, name):\n",
        "    self.name = name\n",
        "    self.call_my_name()\n",
        "\n",
        "  def call_my_name(self,):\n",
        "    print(f\"I'm {self.name} !!\")\n",
        "\n",
        "leon = People('Leon')\n",
        "leon.call_my_name()"
      ],
      "execution_count": null,
      "outputs": [
        {
          "output_type": "stream",
          "text": [
            "I'm Leon !!\n",
            "I'm Leon !!\n"
          ],
          "name": "stdout"
        }
      ]
    },
    {
      "cell_type": "code",
      "metadata": {
        "id": "lbRr3Q6ljbjW"
      },
      "source": [
        "class KeepOneValue(tf.keras.layers.Layer):\n",
        "    def __init__(self,):\n",
        "        super(KeepOneValue, self).__init__()\n",
        "\n",
        "    def call(self, inputs):\n",
        "        return inputs[:, 1:2]"
      ],
      "execution_count": null,
      "outputs": []
    },
    {
      "cell_type": "code",
      "metadata": {
        "id": "nGJy7CfMjblW"
      },
      "source": [
        "seq = tf.keras.Sequential(\n",
        "    [\n",
        "        model,\n",
        "        KeepOneValue(),\n",
        "    ]\n",
        ")"
      ],
      "execution_count": null,
      "outputs": []
    },
    {
      "cell_type": "code",
      "metadata": {
        "id": "IEoSgSCyRZD7"
      },
      "source": [
        ""
      ],
      "execution_count": null,
      "outputs": []
    },
    {
      "cell_type": "code",
      "metadata": {
        "id": "3NFfRwQ4jbnf"
      },
      "source": [
        "target_name = \"Outcome\"\n",
        "feature_names = list(balanced_data.columns)\n",
        "feature_names.remove(target_name)"
      ],
      "execution_count": null,
      "outputs": []
    },
    {
      "cell_type": "code",
      "metadata": {
        "id": "e9Zn-YMqjfcl"
      },
      "source": [
        "# all black box predictions\n",
        "all_predictions = encoder.inverse_transform( model.predict( X_test ) )"
      ],
      "execution_count": null,
      "outputs": []
    },
    {
      "cell_type": "code",
      "metadata": {
        "id": "_VT5Gz9esXmj"
      },
      "source": [
        ""
      ],
      "execution_count": null,
      "outputs": []
    },
    {
      "cell_type": "code",
      "metadata": {
        "id": "Q271FfzQjfel"
      },
      "source": [
        "# Dataset for training an ML model\n",
        "temp_df = pd.DataFrame(X, columns=feature_names)\n",
        "temp_df[target_name] = Y[:, 1]\n",
        "d = dice_ml.Data(dataframe=balanced_data, continuous_features=feature_names, outcome_name=target_name)\n",
        "# Pre-trained ML model\n",
        "m = dice_ml.Model(model=seq, backend=\"TF2\")\n",
        "# DiCE explanation instance\n",
        "exp = dice_ml.Dice(d,m)"
      ],
      "execution_count": null,
      "outputs": []
    },
    {
      "cell_type": "code",
      "metadata": {
        "id": "hcnWyhUosbKP"
      },
      "source": [
        "dice_wrapper = DiCECounterfactaulWrapper(exp)"
      ],
      "execution_count": null,
      "outputs": []
    },
    {
      "cell_type": "code",
      "metadata": {
        "colab": {
          "base_uri": "https://localhost:8080/"
        },
        "id": "FWcwGlI9rqii",
        "outputId": "91d18a62-8302-40e0-e958-a89d9e782b8d"
      },
      "source": [
        "dice_wrapper.run_counterfactual_print_result(all_packs.get_true_negative(3))"
      ],
      "execution_count": null,
      "outputs": [
        {
          "output_type": "stream",
          "text": [
            "WARNING:root: MAD for feature Insulin is 0, so replacing it with 1.0 to avoid error.\n"
          ],
          "name": "stderr"
        },
        {
          "output_type": "stream",
          "text": [
            "Diverse Counterfactuals found! total time taken: 01 min 26 sec\n"
          ],
          "name": "stdout"
        },
        {
          "output_type": "execute_result",
          "data": {
            "text/plain": [
              "{'cf': [3.0, 117.0, 69.0, 18.0, 491.0, 26.7, 0.108, 44.0],\n",
              " 'ground_truth': 0,\n",
              " 'index': 12,\n",
              " 'original_vector': [3.0, 116.0, 69.147541, 15.0, 105.0, 26.3, 0.100066, 24.0],\n",
              " 'prediction_type': 'TRUE NEGATIVE',\n",
              " 'predictions': 0,\n",
              " 'scaled_vector': [0.1764705882352941,\n",
              "  0.5829145728643215,\n",
              "  0.6065573770491803,\n",
              "  0.15151515151515152,\n",
              "  0.12411347517730495,\n",
              "  0.39195230998509695,\n",
              "  0.009421841541755885,\n",
              "  0.058823529411764726],\n",
              " 'time': 86.7839286327362}"
            ]
          },
          "metadata": {
            "tags": []
          },
          "execution_count": 40
        }
      ]
    },
    {
      "cell_type": "code",
      "metadata": {
        "colab": {
          "base_uri": "https://localhost:8080/"
        },
        "id": "i6KX3Pa3xm8q",
        "outputId": "ce1196b6-e75b-4c2b-da92-7fad8a861f37"
      },
      "source": [
        "a = 5\n",
        "print(\"a is %d \"% (a))"
      ],
      "execution_count": null,
      "outputs": [
        {
          "output_type": "stream",
          "text": [
            "a is 5 \n"
          ],
          "name": "stdout"
        }
      ]
    },
    {
      "cell_type": "code",
      "metadata": {
        "id": "ceh35sVptW8r"
      },
      "source": [
        "output_column_names= [ f'orgin_{f}' for f in feature_names] + [ f'cf_{f}' for f in feature_names] + ['time(sec)'] + [\"prediction_type\"]\n",
        "def generate_df_for_all(packs, cf_func):\n",
        "  ### Create an empty dataframe for appending data.\n",
        "  result_df = pd.DataFrame({}, columns= output_column_names)\n",
        "\n",
        "  ### Loop through each predict type.\n",
        "  for p_t in [PredictionType.TruePositive, PredictionType.TrueNegative, PredictionType.FalsePositive, PredictionType.FalseNegative]:\n",
        "    print_block(\"\",\"Doing %s\" % p_t.value)\n",
        "\n",
        "    ### Get the length, so we can through all the instance in this predict type.\n",
        "    total_length = packs.get_len(p_t)\n",
        "    \n",
        "    ### Loop through all the instance in this predict type.\n",
        "    for i in range(total_length):\n",
        "\n",
        "      print_block(\"Instance %d\" %i, \"Running...\")\n",
        "\n",
        "      ### Get the result (including counterfactal and running time) from the cf_func.\n",
        "      returned_case = cf_func(packs.get_instance(p_t, i))\n",
        "\n",
        "      ### Using the information from returned_case to create a dataframe (for appending to result_df).\n",
        "      df_i = pd.DataFrame([\n",
        "      returned_case[\"original_vector\"] + returned_case['cf'] + [returned_case['time'], returned_case['prediction_type']]],columns=output_column_names)\n",
        "\n",
        "      ### appending the current result to the total result dataframe.\n",
        "      result_df = result_df.append(df_i)\n",
        "  return result_df"
      ],
      "execution_count": null,
      "outputs": []
    },
    {
      "cell_type": "code",
      "metadata": {
        "colab": {
          "background_save": true,
          "base_uri": "https://localhost:8080/"
        },
        "id": "rltPQe5Jtkzf",
        "outputId": "a93a66a7-b202-4cf8-88a6-d71f0480451a"
      },
      "source": [
        "dice_cf_df = generate_df_for_all(all_packs, dice_wrapper.run_counterfactual_print_result)"
      ],
      "execution_count": null,
      "outputs": [
        {
          "output_type": "stream",
          "text": [
            "WARNING:root: MAD for feature Insulin is 0, so replacing it with 1.0 to avoid error.\n"
          ],
          "name": "stderr"
        },
        {
          "output_type": "stream",
          "text": [
            "========================================\n",
            "| \tDoing TruePositive\n",
            "========================================\n",
            "\n",
            "\n",
            "====================Instance 0====================\n",
            "| \tRunning...\n",
            "==================================================\n",
            "\n",
            "\n"
          ],
          "name": "stdout"
        },
        {
          "output_type": "stream",
          "text": [
            "WARNING:root: MAD for feature Insulin is 0, so replacing it with 1.0 to avoid error.\n"
          ],
          "name": "stderr"
        },
        {
          "output_type": "stream",
          "text": [
            "Diverse Counterfactuals found! total time taken: 01 min 18 sec\n",
            "====================Instance 1====================\n",
            "| \tRunning...\n",
            "==================================================\n",
            "\n",
            "\n"
          ],
          "name": "stdout"
        },
        {
          "output_type": "stream",
          "text": [
            "WARNING:root: MAD for feature Insulin is 0, so replacing it with 1.0 to avoid error.\n"
          ],
          "name": "stderr"
        },
        {
          "output_type": "stream",
          "text": [
            "Diverse Counterfactuals found! total time taken: 00 min 52 sec\n",
            "====================Instance 2====================\n",
            "| \tRunning...\n",
            "==================================================\n",
            "\n",
            "\n"
          ],
          "name": "stdout"
        },
        {
          "output_type": "stream",
          "text": [
            "WARNING:root: MAD for feature Insulin is 0, so replacing it with 1.0 to avoid error.\n"
          ],
          "name": "stderr"
        },
        {
          "output_type": "stream",
          "text": [
            "Diverse Counterfactuals found! total time taken: 00 min 35 sec\n",
            "====================Instance 3====================\n",
            "| \tRunning...\n",
            "==================================================\n",
            "\n",
            "\n"
          ],
          "name": "stdout"
        },
        {
          "output_type": "stream",
          "text": [
            "WARNING:root: MAD for feature Insulin is 0, so replacing it with 1.0 to avoid error.\n"
          ],
          "name": "stderr"
        },
        {
          "output_type": "stream",
          "text": [
            "Diverse Counterfactuals found! total time taken: 01 min 00 sec\n",
            "====================Instance 4====================\n",
            "| \tRunning...\n",
            "==================================================\n",
            "\n",
            "\n"
          ],
          "name": "stdout"
        },
        {
          "output_type": "stream",
          "text": [
            "WARNING:root: MAD for feature Insulin is 0, so replacing it with 1.0 to avoid error.\n"
          ],
          "name": "stderr"
        },
        {
          "output_type": "stream",
          "text": [
            "Diverse Counterfactuals found! total time taken: 01 min 39 sec\n",
            "====================Instance 5====================\n",
            "| \tRunning...\n",
            "==================================================\n",
            "\n",
            "\n"
          ],
          "name": "stdout"
        },
        {
          "output_type": "stream",
          "text": [
            "WARNING:root: MAD for feature Insulin is 0, so replacing it with 1.0 to avoid error.\n"
          ],
          "name": "stderr"
        },
        {
          "output_type": "stream",
          "text": [
            "Diverse Counterfactuals found! total time taken: 00 min 38 sec\n",
            "====================Instance 6====================\n",
            "| \tRunning...\n",
            "==================================================\n",
            "\n",
            "\n"
          ],
          "name": "stdout"
        },
        {
          "output_type": "stream",
          "text": [
            "WARNING:root: MAD for feature Insulin is 0, so replacing it with 1.0 to avoid error.\n"
          ],
          "name": "stderr"
        },
        {
          "output_type": "stream",
          "text": [
            "Diverse Counterfactuals found! total time taken: 00 min 46 sec\n",
            "====================Instance 7====================\n",
            "| \tRunning...\n",
            "==================================================\n",
            "\n",
            "\n"
          ],
          "name": "stdout"
        },
        {
          "output_type": "stream",
          "text": [
            "WARNING:root: MAD for feature Insulin is 0, so replacing it with 1.0 to avoid error.\n"
          ],
          "name": "stderr"
        },
        {
          "output_type": "stream",
          "text": [
            "Diverse Counterfactuals found! total time taken: 01 min 59 sec\n",
            "====================Instance 8====================\n",
            "| \tRunning...\n",
            "==================================================\n",
            "\n",
            "\n"
          ],
          "name": "stdout"
        },
        {
          "output_type": "stream",
          "text": [
            "WARNING:root: MAD for feature Insulin is 0, so replacing it with 1.0 to avoid error.\n"
          ],
          "name": "stderr"
        },
        {
          "output_type": "stream",
          "text": [
            "Diverse Counterfactuals found! total time taken: 03 min 38 sec\n",
            "====================Instance 9====================\n",
            "| \tRunning...\n",
            "==================================================\n",
            "\n",
            "\n"
          ],
          "name": "stdout"
        },
        {
          "output_type": "stream",
          "text": [
            "WARNING:root: MAD for feature Insulin is 0, so replacing it with 1.0 to avoid error.\n"
          ],
          "name": "stderr"
        },
        {
          "output_type": "stream",
          "text": [
            "Diverse Counterfactuals found! total time taken: 02 min 14 sec\n",
            "====================Instance 10====================\n",
            "| \tRunning...\n",
            "===================================================\n",
            "\n",
            "\n"
          ],
          "name": "stdout"
        },
        {
          "output_type": "stream",
          "text": [
            "WARNING:root: MAD for feature Insulin is 0, so replacing it with 1.0 to avoid error.\n"
          ],
          "name": "stderr"
        },
        {
          "output_type": "stream",
          "text": [
            "Diverse Counterfactuals found! total time taken: 02 min 36 sec\n",
            "====================Instance 11====================\n",
            "| \tRunning...\n",
            "===================================================\n",
            "\n",
            "\n"
          ],
          "name": "stdout"
        },
        {
          "output_type": "stream",
          "text": [
            "WARNING:root: MAD for feature Insulin is 0, so replacing it with 1.0 to avoid error.\n"
          ],
          "name": "stderr"
        },
        {
          "output_type": "stream",
          "text": [
            "Diverse Counterfactuals found! total time taken: 02 min 32 sec\n",
            "====================Instance 12====================\n",
            "| \tRunning...\n",
            "===================================================\n",
            "\n",
            "\n"
          ],
          "name": "stdout"
        },
        {
          "output_type": "stream",
          "text": [
            "WARNING:root: MAD for feature Insulin is 0, so replacing it with 1.0 to avoid error.\n"
          ],
          "name": "stderr"
        },
        {
          "output_type": "stream",
          "text": [
            "Diverse Counterfactuals found! total time taken: 02 min 09 sec\n",
            "====================Instance 13====================\n",
            "| \tRunning...\n",
            "===================================================\n",
            "\n",
            "\n"
          ],
          "name": "stdout"
        },
        {
          "output_type": "stream",
          "text": [
            "WARNING:root: MAD for feature Insulin is 0, so replacing it with 1.0 to avoid error.\n"
          ],
          "name": "stderr"
        },
        {
          "output_type": "stream",
          "text": [
            "Diverse Counterfactuals found! total time taken: 02 min 19 sec\n",
            "====================Instance 14====================\n",
            "| \tRunning...\n",
            "===================================================\n",
            "\n",
            "\n"
          ],
          "name": "stdout"
        },
        {
          "output_type": "stream",
          "text": [
            "WARNING:root: MAD for feature Insulin is 0, so replacing it with 1.0 to avoid error.\n"
          ],
          "name": "stderr"
        },
        {
          "output_type": "stream",
          "text": [
            "Diverse Counterfactuals found! total time taken: 03 min 24 sec\n",
            "====================Instance 15====================\n",
            "| \tRunning...\n",
            "===================================================\n",
            "\n",
            "\n"
          ],
          "name": "stdout"
        },
        {
          "output_type": "stream",
          "text": [
            "WARNING:root: MAD for feature Insulin is 0, so replacing it with 1.0 to avoid error.\n"
          ],
          "name": "stderr"
        },
        {
          "output_type": "stream",
          "text": [
            "Diverse Counterfactuals found! total time taken: 00 min 44 sec\n",
            "====================Instance 16====================\n",
            "| \tRunning...\n",
            "===================================================\n",
            "\n",
            "\n"
          ],
          "name": "stdout"
        },
        {
          "output_type": "stream",
          "text": [
            "WARNING:root: MAD for feature Insulin is 0, so replacing it with 1.0 to avoid error.\n"
          ],
          "name": "stderr"
        },
        {
          "output_type": "stream",
          "text": [
            "Diverse Counterfactuals found! total time taken: 02 min 29 sec\n",
            "====================Instance 17====================\n",
            "| \tRunning...\n",
            "===================================================\n",
            "\n",
            "\n"
          ],
          "name": "stdout"
        },
        {
          "output_type": "stream",
          "text": [
            "WARNING:root: MAD for feature Insulin is 0, so replacing it with 1.0 to avoid error.\n"
          ],
          "name": "stderr"
        },
        {
          "output_type": "stream",
          "text": [
            "Diverse Counterfactuals found! total time taken: 03 min 36 sec\n",
            "====================Instance 18====================\n",
            "| \tRunning...\n",
            "===================================================\n",
            "\n",
            "\n"
          ],
          "name": "stdout"
        },
        {
          "output_type": "stream",
          "text": [
            "WARNING:root: MAD for feature Insulin is 0, so replacing it with 1.0 to avoid error.\n"
          ],
          "name": "stderr"
        },
        {
          "output_type": "stream",
          "text": [
            "Diverse Counterfactuals found! total time taken: 01 min 25 sec\n",
            "====================Instance 19====================\n",
            "| \tRunning...\n",
            "===================================================\n",
            "\n",
            "\n"
          ],
          "name": "stdout"
        },
        {
          "output_type": "stream",
          "text": [
            "WARNING:root: MAD for feature Insulin is 0, so replacing it with 1.0 to avoid error.\n"
          ],
          "name": "stderr"
        },
        {
          "output_type": "stream",
          "text": [
            "Diverse Counterfactuals found! total time taken: 01 min 38 sec\n",
            "====================Instance 20====================\n",
            "| \tRunning...\n",
            "===================================================\n",
            "\n",
            "\n"
          ],
          "name": "stdout"
        },
        {
          "output_type": "stream",
          "text": [
            "WARNING:root: MAD for feature Insulin is 0, so replacing it with 1.0 to avoid error.\n"
          ],
          "name": "stderr"
        },
        {
          "output_type": "stream",
          "text": [
            "Diverse Counterfactuals found! total time taken: 00 min 42 sec\n",
            "====================Instance 21====================\n",
            "| \tRunning...\n",
            "===================================================\n",
            "\n",
            "\n"
          ],
          "name": "stdout"
        },
        {
          "output_type": "stream",
          "text": [
            "WARNING:root: MAD for feature Insulin is 0, so replacing it with 1.0 to avoid error.\n"
          ],
          "name": "stderr"
        },
        {
          "output_type": "stream",
          "text": [
            "Diverse Counterfactuals found! total time taken: 00 min 48 sec\n",
            "====================Instance 22====================\n",
            "| \tRunning...\n",
            "===================================================\n",
            "\n",
            "\n"
          ],
          "name": "stdout"
        },
        {
          "output_type": "stream",
          "text": [
            "WARNING:root: MAD for feature Insulin is 0, so replacing it with 1.0 to avoid error.\n"
          ],
          "name": "stderr"
        },
        {
          "output_type": "stream",
          "text": [
            "Diverse Counterfactuals found! total time taken: 00 min 53 sec\n",
            "====================Instance 23====================\n",
            "| \tRunning...\n",
            "===================================================\n",
            "\n",
            "\n"
          ],
          "name": "stdout"
        },
        {
          "output_type": "stream",
          "text": [
            "WARNING:root: MAD for feature Insulin is 0, so replacing it with 1.0 to avoid error.\n"
          ],
          "name": "stderr"
        },
        {
          "output_type": "stream",
          "text": [
            "Diverse Counterfactuals found! total time taken: 00 min 52 sec\n",
            "====================Instance 24====================\n",
            "| \tRunning...\n",
            "===================================================\n",
            "\n",
            "\n"
          ],
          "name": "stdout"
        },
        {
          "output_type": "stream",
          "text": [
            "WARNING:root: MAD for feature Insulin is 0, so replacing it with 1.0 to avoid error.\n"
          ],
          "name": "stderr"
        },
        {
          "output_type": "stream",
          "text": [
            "Diverse Counterfactuals found! total time taken: 00 min 44 sec\n",
            "====================Instance 25====================\n",
            "| \tRunning...\n",
            "===================================================\n",
            "\n",
            "\n"
          ],
          "name": "stdout"
        },
        {
          "output_type": "stream",
          "text": [
            "WARNING:root: MAD for feature Insulin is 0, so replacing it with 1.0 to avoid error.\n"
          ],
          "name": "stderr"
        },
        {
          "output_type": "stream",
          "text": [
            "Diverse Counterfactuals found! total time taken: 01 min 21 sec\n",
            "====================Instance 26====================\n",
            "| \tRunning...\n",
            "===================================================\n",
            "\n",
            "\n"
          ],
          "name": "stdout"
        },
        {
          "output_type": "stream",
          "text": [
            "WARNING:root: MAD for feature Insulin is 0, so replacing it with 1.0 to avoid error.\n"
          ],
          "name": "stderr"
        },
        {
          "output_type": "stream",
          "text": [
            "Diverse Counterfactuals found! total time taken: 00 min 45 sec\n",
            "====================Instance 27====================\n",
            "| \tRunning...\n",
            "===================================================\n",
            "\n",
            "\n"
          ],
          "name": "stdout"
        },
        {
          "output_type": "stream",
          "text": [
            "WARNING:root: MAD for feature Insulin is 0, so replacing it with 1.0 to avoid error.\n"
          ],
          "name": "stderr"
        },
        {
          "output_type": "stream",
          "text": [
            "Diverse Counterfactuals found! total time taken: 05 min 11 sec\n",
            "====================Instance 28====================\n",
            "| \tRunning...\n",
            "===================================================\n",
            "\n",
            "\n"
          ],
          "name": "stdout"
        },
        {
          "output_type": "stream",
          "text": [
            "WARNING:root: MAD for feature Insulin is 0, so replacing it with 1.0 to avoid error.\n"
          ],
          "name": "stderr"
        },
        {
          "output_type": "stream",
          "text": [
            "Diverse Counterfactuals found! total time taken: 03 min 23 sec\n",
            "====================Instance 29====================\n",
            "| \tRunning...\n",
            "===================================================\n",
            "\n",
            "\n"
          ],
          "name": "stdout"
        },
        {
          "output_type": "stream",
          "text": [
            "WARNING:root: MAD for feature Insulin is 0, so replacing it with 1.0 to avoid error.\n"
          ],
          "name": "stderr"
        },
        {
          "output_type": "stream",
          "text": [
            "Diverse Counterfactuals found! total time taken: 03 min 07 sec\n",
            "====================Instance 30====================\n",
            "| \tRunning...\n",
            "===================================================\n",
            "\n",
            "\n"
          ],
          "name": "stdout"
        },
        {
          "output_type": "stream",
          "text": [
            "WARNING:root: MAD for feature Insulin is 0, so replacing it with 1.0 to avoid error.\n"
          ],
          "name": "stderr"
        },
        {
          "output_type": "stream",
          "text": [
            "Diverse Counterfactuals found! total time taken: 01 min 37 sec\n",
            "====================Instance 31====================\n",
            "| \tRunning...\n",
            "===================================================\n",
            "\n",
            "\n"
          ],
          "name": "stdout"
        },
        {
          "output_type": "stream",
          "text": [
            "WARNING:root: MAD for feature Insulin is 0, so replacing it with 1.0 to avoid error.\n"
          ],
          "name": "stderr"
        },
        {
          "output_type": "stream",
          "text": [
            "Diverse Counterfactuals found! total time taken: 01 min 21 sec\n",
            "====================Instance 32====================\n",
            "| \tRunning...\n",
            "===================================================\n",
            "\n",
            "\n"
          ],
          "name": "stdout"
        },
        {
          "output_type": "stream",
          "text": [
            "WARNING:root: MAD for feature Insulin is 0, so replacing it with 1.0 to avoid error.\n"
          ],
          "name": "stderr"
        },
        {
          "output_type": "stream",
          "text": [
            "Diverse Counterfactuals found! total time taken: 00 min 47 sec\n",
            "========================================\n",
            "| \tDoing TrueNegative\n",
            "========================================\n",
            "\n",
            "\n",
            "====================Instance 0====================\n",
            "| \tRunning...\n",
            "==================================================\n",
            "\n",
            "\n"
          ],
          "name": "stdout"
        },
        {
          "output_type": "stream",
          "text": [
            "WARNING:root: MAD for feature Insulin is 0, so replacing it with 1.0 to avoid error.\n"
          ],
          "name": "stderr"
        },
        {
          "output_type": "stream",
          "text": [
            "Diverse Counterfactuals found! total time taken: 00 min 59 sec\n",
            "====================Instance 1====================\n",
            "| \tRunning...\n",
            "==================================================\n",
            "\n",
            "\n"
          ],
          "name": "stdout"
        },
        {
          "output_type": "stream",
          "text": [
            "WARNING:root: MAD for feature Insulin is 0, so replacing it with 1.0 to avoid error.\n"
          ],
          "name": "stderr"
        },
        {
          "output_type": "stream",
          "text": [
            "Diverse Counterfactuals found! total time taken: 02 min 32 sec\n",
            "====================Instance 2====================\n",
            "| \tRunning...\n",
            "==================================================\n",
            "\n",
            "\n"
          ],
          "name": "stdout"
        },
        {
          "output_type": "stream",
          "text": [
            "WARNING:root: MAD for feature Insulin is 0, so replacing it with 1.0 to avoid error.\n"
          ],
          "name": "stderr"
        },
        {
          "output_type": "stream",
          "text": [
            "Diverse Counterfactuals found! total time taken: 01 min 13 sec\n",
            "====================Instance 3====================\n",
            "| \tRunning...\n",
            "==================================================\n",
            "\n",
            "\n"
          ],
          "name": "stdout"
        },
        {
          "output_type": "stream",
          "text": [
            "WARNING:root: MAD for feature Insulin is 0, so replacing it with 1.0 to avoid error.\n"
          ],
          "name": "stderr"
        },
        {
          "output_type": "stream",
          "text": [
            "Diverse Counterfactuals found! total time taken: 01 min 24 sec\n",
            "====================Instance 4====================\n",
            "| \tRunning...\n",
            "==================================================\n",
            "\n",
            "\n"
          ],
          "name": "stdout"
        },
        {
          "output_type": "stream",
          "text": [
            "WARNING:root: MAD for feature Insulin is 0, so replacing it with 1.0 to avoid error.\n"
          ],
          "name": "stderr"
        },
        {
          "output_type": "stream",
          "text": [
            "Diverse Counterfactuals found! total time taken: 01 min 22 sec\n",
            "====================Instance 5====================\n",
            "| \tRunning...\n",
            "==================================================\n",
            "\n",
            "\n"
          ],
          "name": "stdout"
        },
        {
          "output_type": "stream",
          "text": [
            "WARNING:root: MAD for feature Insulin is 0, so replacing it with 1.0 to avoid error.\n"
          ],
          "name": "stderr"
        },
        {
          "output_type": "stream",
          "text": [
            "Diverse Counterfactuals found! total time taken: 01 min 46 sec\n",
            "====================Instance 6====================\n",
            "| \tRunning...\n",
            "==================================================\n",
            "\n",
            "\n"
          ],
          "name": "stdout"
        },
        {
          "output_type": "stream",
          "text": [
            "WARNING:root: MAD for feature Insulin is 0, so replacing it with 1.0 to avoid error.\n"
          ],
          "name": "stderr"
        },
        {
          "output_type": "stream",
          "text": [
            "Diverse Counterfactuals found! total time taken: 03 min 57 sec\n",
            "====================Instance 7====================\n",
            "| \tRunning...\n",
            "==================================================\n",
            "\n",
            "\n"
          ],
          "name": "stdout"
        },
        {
          "output_type": "stream",
          "text": [
            "WARNING:root: MAD for feature Insulin is 0, so replacing it with 1.0 to avoid error.\n"
          ],
          "name": "stderr"
        },
        {
          "output_type": "stream",
          "text": [
            "Diverse Counterfactuals found! total time taken: 00 min 41 sec\n",
            "====================Instance 8====================\n",
            "| \tRunning...\n",
            "==================================================\n",
            "\n",
            "\n"
          ],
          "name": "stdout"
        },
        {
          "output_type": "stream",
          "text": [
            "WARNING:root: MAD for feature Insulin is 0, so replacing it with 1.0 to avoid error.\n"
          ],
          "name": "stderr"
        },
        {
          "output_type": "stream",
          "text": [
            "Diverse Counterfactuals found! total time taken: 02 min 33 sec\n",
            "====================Instance 9====================\n",
            "| \tRunning...\n",
            "==================================================\n",
            "\n",
            "\n"
          ],
          "name": "stdout"
        },
        {
          "output_type": "stream",
          "text": [
            "WARNING:root: MAD for feature Insulin is 0, so replacing it with 1.0 to avoid error.\n"
          ],
          "name": "stderr"
        },
        {
          "output_type": "stream",
          "text": [
            "Diverse Counterfactuals found! total time taken: 02 min 36 sec\n",
            "====================Instance 10====================\n",
            "| \tRunning...\n",
            "===================================================\n",
            "\n",
            "\n"
          ],
          "name": "stdout"
        },
        {
          "output_type": "stream",
          "text": [
            "WARNING:root: MAD for feature Insulin is 0, so replacing it with 1.0 to avoid error.\n"
          ],
          "name": "stderr"
        },
        {
          "output_type": "stream",
          "text": [
            "Diverse Counterfactuals found! total time taken: 03 min 22 sec\n",
            "====================Instance 11====================\n",
            "| \tRunning...\n",
            "===================================================\n",
            "\n",
            "\n"
          ],
          "name": "stdout"
        },
        {
          "output_type": "stream",
          "text": [
            "WARNING:root: MAD for feature Insulin is 0, so replacing it with 1.0 to avoid error.\n"
          ],
          "name": "stderr"
        },
        {
          "output_type": "stream",
          "text": [
            "Diverse Counterfactuals found! total time taken: 00 min 54 sec\n",
            "====================Instance 12====================\n",
            "| \tRunning...\n",
            "===================================================\n",
            "\n",
            "\n"
          ],
          "name": "stdout"
        },
        {
          "output_type": "stream",
          "text": [
            "WARNING:root: MAD for feature Insulin is 0, so replacing it with 1.0 to avoid error.\n"
          ],
          "name": "stderr"
        },
        {
          "output_type": "stream",
          "text": [
            "Diverse Counterfactuals found! total time taken: 01 min 26 sec\n",
            "====================Instance 13====================\n",
            "| \tRunning...\n",
            "===================================================\n",
            "\n",
            "\n"
          ],
          "name": "stdout"
        },
        {
          "output_type": "stream",
          "text": [
            "WARNING:root: MAD for feature Insulin is 0, so replacing it with 1.0 to avoid error.\n"
          ],
          "name": "stderr"
        },
        {
          "output_type": "stream",
          "text": [
            "Diverse Counterfactuals found! total time taken: 00 min 49 sec\n",
            "====================Instance 14====================\n",
            "| \tRunning...\n",
            "===================================================\n",
            "\n",
            "\n"
          ],
          "name": "stdout"
        },
        {
          "output_type": "stream",
          "text": [
            "WARNING:root: MAD for feature Insulin is 0, so replacing it with 1.0 to avoid error.\n"
          ],
          "name": "stderr"
        },
        {
          "output_type": "stream",
          "text": [
            "Diverse Counterfactuals found! total time taken: 01 min 15 sec\n",
            "====================Instance 15====================\n",
            "| \tRunning...\n",
            "===================================================\n",
            "\n",
            "\n"
          ],
          "name": "stdout"
        },
        {
          "output_type": "stream",
          "text": [
            "WARNING:root: MAD for feature Insulin is 0, so replacing it with 1.0 to avoid error.\n"
          ],
          "name": "stderr"
        },
        {
          "output_type": "stream",
          "text": [
            "Diverse Counterfactuals found! total time taken: 01 min 12 sec\n",
            "====================Instance 16====================\n",
            "| \tRunning...\n",
            "===================================================\n",
            "\n",
            "\n"
          ],
          "name": "stdout"
        },
        {
          "output_type": "stream",
          "text": [
            "WARNING:root: MAD for feature Insulin is 0, so replacing it with 1.0 to avoid error.\n"
          ],
          "name": "stderr"
        },
        {
          "output_type": "stream",
          "text": [
            "Diverse Counterfactuals found! total time taken: 00 min 52 sec\n",
            "====================Instance 17====================\n",
            "| \tRunning...\n",
            "===================================================\n",
            "\n",
            "\n"
          ],
          "name": "stdout"
        },
        {
          "output_type": "stream",
          "text": [
            "WARNING:root: MAD for feature Insulin is 0, so replacing it with 1.0 to avoid error.\n"
          ],
          "name": "stderr"
        },
        {
          "output_type": "stream",
          "text": [
            "Diverse Counterfactuals found! total time taken: 04 min 25 sec\n",
            "====================Instance 18====================\n",
            "| \tRunning...\n",
            "===================================================\n",
            "\n",
            "\n"
          ],
          "name": "stdout"
        },
        {
          "output_type": "stream",
          "text": [
            "WARNING:root: MAD for feature Insulin is 0, so replacing it with 1.0 to avoid error.\n"
          ],
          "name": "stderr"
        },
        {
          "output_type": "stream",
          "text": [
            "Diverse Counterfactuals found! total time taken: 00 min 47 sec\n",
            "====================Instance 19====================\n",
            "| \tRunning...\n",
            "===================================================\n",
            "\n",
            "\n"
          ],
          "name": "stdout"
        },
        {
          "output_type": "stream",
          "text": [
            "WARNING:root: MAD for feature Insulin is 0, so replacing it with 1.0 to avoid error.\n"
          ],
          "name": "stderr"
        },
        {
          "output_type": "stream",
          "text": [
            "Diverse Counterfactuals found! total time taken: 00 min 45 sec\n",
            "====================Instance 20====================\n",
            "| \tRunning...\n",
            "===================================================\n",
            "\n",
            "\n"
          ],
          "name": "stdout"
        },
        {
          "output_type": "stream",
          "text": [
            "WARNING:root: MAD for feature Insulin is 0, so replacing it with 1.0 to avoid error.\n"
          ],
          "name": "stderr"
        },
        {
          "output_type": "stream",
          "text": [
            "Diverse Counterfactuals found! total time taken: 02 min 35 sec\n",
            "====================Instance 21====================\n",
            "| \tRunning...\n",
            "===================================================\n",
            "\n",
            "\n"
          ],
          "name": "stdout"
        },
        {
          "output_type": "stream",
          "text": [
            "WARNING:root: MAD for feature Insulin is 0, so replacing it with 1.0 to avoid error.\n"
          ],
          "name": "stderr"
        },
        {
          "output_type": "stream",
          "text": [
            "Diverse Counterfactuals found! total time taken: 01 min 24 sec\n",
            "====================Instance 22====================\n",
            "| \tRunning...\n",
            "===================================================\n",
            "\n",
            "\n"
          ],
          "name": "stdout"
        },
        {
          "output_type": "stream",
          "text": [
            "WARNING:root: MAD for feature Insulin is 0, so replacing it with 1.0 to avoid error.\n"
          ],
          "name": "stderr"
        },
        {
          "output_type": "stream",
          "text": [
            "Diverse Counterfactuals found! total time taken: 01 min 58 sec\n",
            "====================Instance 23====================\n",
            "| \tRunning...\n",
            "===================================================\n",
            "\n",
            "\n"
          ],
          "name": "stdout"
        },
        {
          "output_type": "stream",
          "text": [
            "WARNING:root: MAD for feature Insulin is 0, so replacing it with 1.0 to avoid error.\n"
          ],
          "name": "stderr"
        },
        {
          "output_type": "stream",
          "text": [
            "Diverse Counterfactuals found! total time taken: 01 min 25 sec\n",
            "====================Instance 24====================\n",
            "| \tRunning...\n",
            "===================================================\n",
            "\n",
            "\n"
          ],
          "name": "stdout"
        },
        {
          "output_type": "stream",
          "text": [
            "WARNING:root: MAD for feature Insulin is 0, so replacing it with 1.0 to avoid error.\n"
          ],
          "name": "stderr"
        },
        {
          "output_type": "stream",
          "text": [
            "Diverse Counterfactuals found! total time taken: 01 min 27 sec\n",
            "====================Instance 25====================\n",
            "| \tRunning...\n",
            "===================================================\n",
            "\n",
            "\n"
          ],
          "name": "stdout"
        },
        {
          "output_type": "stream",
          "text": [
            "WARNING:root: MAD for feature Insulin is 0, so replacing it with 1.0 to avoid error.\n"
          ],
          "name": "stderr"
        },
        {
          "output_type": "stream",
          "text": [
            "Diverse Counterfactuals found! total time taken: 01 min 03 sec\n",
            "========================================\n",
            "| \tDoing FalsePositive\n",
            "========================================\n",
            "\n",
            "\n",
            "====================Instance 0====================\n",
            "| \tRunning...\n",
            "==================================================\n",
            "\n",
            "\n"
          ],
          "name": "stdout"
        },
        {
          "output_type": "stream",
          "text": [
            "WARNING:root: MAD for feature Insulin is 0, so replacing it with 1.0 to avoid error.\n"
          ],
          "name": "stderr"
        },
        {
          "output_type": "stream",
          "text": [
            "Diverse Counterfactuals found! total time taken: 01 min 35 sec\n",
            "====================Instance 1====================\n",
            "| \tRunning...\n",
            "==================================================\n",
            "\n",
            "\n"
          ],
          "name": "stdout"
        },
        {
          "output_type": "stream",
          "text": [
            "WARNING:root: MAD for feature Insulin is 0, so replacing it with 1.0 to avoid error.\n"
          ],
          "name": "stderr"
        },
        {
          "output_type": "stream",
          "text": [
            "Diverse Counterfactuals found! total time taken: 02 min 14 sec\n",
            "====================Instance 2====================\n",
            "| \tRunning...\n",
            "==================================================\n",
            "\n",
            "\n"
          ],
          "name": "stdout"
        },
        {
          "output_type": "stream",
          "text": [
            "WARNING:root: MAD for feature Insulin is 0, so replacing it with 1.0 to avoid error.\n"
          ],
          "name": "stderr"
        },
        {
          "output_type": "stream",
          "text": [
            "Diverse Counterfactuals found! total time taken: 00 min 44 sec\n",
            "====================Instance 3====================\n",
            "| \tRunning...\n",
            "==================================================\n",
            "\n",
            "\n"
          ],
          "name": "stdout"
        },
        {
          "output_type": "stream",
          "text": [
            "WARNING:root: MAD for feature Insulin is 0, so replacing it with 1.0 to avoid error.\n"
          ],
          "name": "stderr"
        },
        {
          "output_type": "stream",
          "text": [
            "Diverse Counterfactuals found! total time taken: 01 min 02 sec\n",
            "====================Instance 4====================\n",
            "| \tRunning...\n",
            "==================================================\n",
            "\n",
            "\n"
          ],
          "name": "stdout"
        },
        {
          "output_type": "stream",
          "text": [
            "WARNING:root: MAD for feature Insulin is 0, so replacing it with 1.0 to avoid error.\n"
          ],
          "name": "stderr"
        },
        {
          "output_type": "stream",
          "text": [
            "Diverse Counterfactuals found! total time taken: 01 min 00 sec\n",
            "====================Instance 5====================\n",
            "| \tRunning...\n",
            "==================================================\n",
            "\n",
            "\n"
          ],
          "name": "stdout"
        },
        {
          "output_type": "stream",
          "text": [
            "WARNING:root: MAD for feature Insulin is 0, so replacing it with 1.0 to avoid error.\n"
          ],
          "name": "stderr"
        },
        {
          "output_type": "stream",
          "text": [
            "Diverse Counterfactuals found! total time taken: 02 min 11 sec\n",
            "====================Instance 6====================\n",
            "| \tRunning...\n",
            "==================================================\n",
            "\n",
            "\n"
          ],
          "name": "stdout"
        },
        {
          "output_type": "stream",
          "text": [
            "WARNING:root: MAD for feature Insulin is 0, so replacing it with 1.0 to avoid error.\n"
          ],
          "name": "stderr"
        },
        {
          "output_type": "stream",
          "text": [
            "Diverse Counterfactuals found! total time taken: 00 min 38 sec\n",
            "====================Instance 7====================\n",
            "| \tRunning...\n",
            "==================================================\n",
            "\n",
            "\n"
          ],
          "name": "stdout"
        },
        {
          "output_type": "stream",
          "text": [
            "WARNING:root: MAD for feature Insulin is 0, so replacing it with 1.0 to avoid error.\n"
          ],
          "name": "stderr"
        },
        {
          "output_type": "stream",
          "text": [
            "Diverse Counterfactuals found! total time taken: 00 min 53 sec\n",
            "====================Instance 8====================\n",
            "| \tRunning...\n",
            "==================================================\n",
            "\n",
            "\n"
          ],
          "name": "stdout"
        },
        {
          "output_type": "stream",
          "text": [
            "WARNING:root: MAD for feature Insulin is 0, so replacing it with 1.0 to avoid error.\n"
          ],
          "name": "stderr"
        },
        {
          "output_type": "stream",
          "text": [
            "Diverse Counterfactuals found! total time taken: 01 min 17 sec\n",
            "====================Instance 9====================\n",
            "| \tRunning...\n",
            "==================================================\n",
            "\n",
            "\n"
          ],
          "name": "stdout"
        },
        {
          "output_type": "stream",
          "text": [
            "WARNING:root: MAD for feature Insulin is 0, so replacing it with 1.0 to avoid error.\n"
          ],
          "name": "stderr"
        },
        {
          "output_type": "stream",
          "text": [
            "Diverse Counterfactuals found! total time taken: 00 min 56 sec\n",
            "====================Instance 10====================\n",
            "| \tRunning...\n",
            "===================================================\n",
            "\n",
            "\n"
          ],
          "name": "stdout"
        },
        {
          "output_type": "stream",
          "text": [
            "WARNING:root: MAD for feature Insulin is 0, so replacing it with 1.0 to avoid error.\n"
          ],
          "name": "stderr"
        },
        {
          "output_type": "stream",
          "text": [
            "Diverse Counterfactuals found! total time taken: 05 min 02 sec\n",
            "====================Instance 11====================\n",
            "| \tRunning...\n",
            "===================================================\n",
            "\n",
            "\n"
          ],
          "name": "stdout"
        },
        {
          "output_type": "stream",
          "text": [
            "WARNING:root: MAD for feature Insulin is 0, so replacing it with 1.0 to avoid error.\n"
          ],
          "name": "stderr"
        },
        {
          "output_type": "stream",
          "text": [
            "Diverse Counterfactuals found! total time taken: 00 min 36 sec\n",
            "====================Instance 12====================\n",
            "| \tRunning...\n",
            "===================================================\n",
            "\n",
            "\n"
          ],
          "name": "stdout"
        },
        {
          "output_type": "stream",
          "text": [
            "WARNING:root: MAD for feature Insulin is 0, so replacing it with 1.0 to avoid error.\n"
          ],
          "name": "stderr"
        },
        {
          "output_type": "stream",
          "text": [
            "Diverse Counterfactuals found! total time taken: 00 min 32 sec\n",
            "====================Instance 13====================\n",
            "| \tRunning...\n",
            "===================================================\n",
            "\n",
            "\n"
          ],
          "name": "stdout"
        },
        {
          "output_type": "stream",
          "text": [
            "WARNING:root: MAD for feature Insulin is 0, so replacing it with 1.0 to avoid error.\n"
          ],
          "name": "stderr"
        },
        {
          "output_type": "stream",
          "text": [
            "Diverse Counterfactuals found! total time taken: 01 min 34 sec\n",
            "========================================\n",
            "| \tDoing FalseNegative\n",
            "========================================\n",
            "\n",
            "\n",
            "====================Instance 0====================\n",
            "| \tRunning...\n",
            "==================================================\n",
            "\n",
            "\n"
          ],
          "name": "stdout"
        },
        {
          "output_type": "stream",
          "text": [
            "WARNING:root: MAD for feature Insulin is 0, so replacing it with 1.0 to avoid error.\n"
          ],
          "name": "stderr"
        },
        {
          "output_type": "stream",
          "text": [
            "Diverse Counterfactuals found! total time taken: 02 min 30 sec\n",
            "====================Instance 1====================\n",
            "| \tRunning...\n",
            "==================================================\n",
            "\n",
            "\n"
          ],
          "name": "stdout"
        },
        {
          "output_type": "stream",
          "text": [
            "WARNING:root: MAD for feature Insulin is 0, so replacing it with 1.0 to avoid error.\n"
          ],
          "name": "stderr"
        },
        {
          "output_type": "stream",
          "text": [
            "Diverse Counterfactuals found! total time taken: 01 min 23 sec\n",
            "====================Instance 2====================\n",
            "| \tRunning...\n",
            "==================================================\n",
            "\n",
            "\n"
          ],
          "name": "stdout"
        },
        {
          "output_type": "stream",
          "text": [
            "WARNING:root: MAD for feature Insulin is 0, so replacing it with 1.0 to avoid error.\n"
          ],
          "name": "stderr"
        },
        {
          "output_type": "stream",
          "text": [
            "Diverse Counterfactuals found! total time taken: 01 min 30 sec\n",
            "====================Instance 3====================\n",
            "| \tRunning...\n",
            "==================================================\n",
            "\n",
            "\n"
          ],
          "name": "stdout"
        },
        {
          "output_type": "stream",
          "text": [
            "WARNING:root: MAD for feature Insulin is 0, so replacing it with 1.0 to avoid error.\n"
          ],
          "name": "stderr"
        },
        {
          "output_type": "stream",
          "text": [
            "Diverse Counterfactuals found! total time taken: 01 min 02 sec\n",
            "====================Instance 4====================\n",
            "| \tRunning...\n",
            "==================================================\n",
            "\n",
            "\n"
          ],
          "name": "stdout"
        },
        {
          "output_type": "stream",
          "text": [
            "WARNING:root: MAD for feature Insulin is 0, so replacing it with 1.0 to avoid error.\n"
          ],
          "name": "stderr"
        },
        {
          "output_type": "stream",
          "text": [
            "Diverse Counterfactuals found! total time taken: 00 min 48 sec\n",
            "====================Instance 5====================\n",
            "| \tRunning...\n",
            "==================================================\n",
            "\n",
            "\n"
          ],
          "name": "stdout"
        },
        {
          "output_type": "stream",
          "text": [
            "WARNING:root: MAD for feature Insulin is 0, so replacing it with 1.0 to avoid error.\n"
          ],
          "name": "stderr"
        },
        {
          "output_type": "stream",
          "text": [
            "Diverse Counterfactuals found! total time taken: 01 min 04 sec\n",
            "====================Instance 6====================\n",
            "| \tRunning...\n",
            "==================================================\n",
            "\n",
            "\n",
            "Diverse Counterfactuals found! total time taken: 03 min 03 sec\n"
          ],
          "name": "stdout"
        }
      ]
    },
    {
      "cell_type": "code",
      "metadata": {
        "colab": {
          "background_save": true
        },
        "id": "8Pmeun8ItzwE"
      },
      "source": [
        "dice_cf_df.to_csv('dice_cf_df_cf3.csv')"
      ],
      "execution_count": null,
      "outputs": []
    },
    {
      "cell_type": "code",
      "metadata": {
        "colab": {
          "background_save": true
        },
        "id": "LkTMKaa5tpv9"
      },
      "source": [
        "## read the csv\n",
        "try_load_dice_cf_df = pd.read_csv('dice_cf_df_cf3.csv')"
      ],
      "execution_count": null,
      "outputs": []
    },
    {
      "cell_type": "markdown",
      "metadata": {
        "id": "hhM9WHONXFSA"
      },
      "source": [
        ""
      ]
    },
    {
      "cell_type": "code",
      "metadata": {
        "colab": {
          "background_save": true
        },
        "id": "kdDxs1urLb-U",
        "outputId": "f8fd2aeb-9ef7-431b-efdd-4ba5917dcbe5"
      },
      "source": [
        "list(dice_wrapper.dice_exp.final_cfs_df.iloc[0][:-1])"
      ],
      "execution_count": null,
      "outputs": [
        {
          "output_type": "execute_result",
          "data": {
            "text/plain": [
              "[0.0, 106.0, 60.0, 32.0, 762.0, 40.6, 0.868, 25.0]"
            ]
          },
          "metadata": {
            "tags": []
          },
          "execution_count": 0
        }
      ]
    },
    {
      "cell_type": "code",
      "metadata": {
        "colab": {
          "background_save": true
        },
        "id": "j0Zxv7yq70VC",
        "outputId": "62cfe4aa-f595-489c-aaf3-6d74b8723143"
      },
      "source": [
        "%ipython history -g"
      ],
      "execution_count": null,
      "outputs": [
        {
          "output_type": "stream",
          "text": [
            "UsageError: Line magic function `%ipython` not found.\n"
          ],
          "name": "stderr"
        }
      ]
    },
    {
      "cell_type": "code",
      "metadata": {
        "colab": {
          "background_save": true
        },
        "id": "I4Hf2o_-72HV"
      },
      "source": [
        "%history -g"
      ],
      "execution_count": null,
      "outputs": []
    },
    {
      "cell_type": "code",
      "metadata": {
        "colab": {
          "background_save": true
        },
        "id": "eQ2J-QHd7-2_"
      },
      "source": [
        ""
      ],
      "execution_count": null,
      "outputs": []
    }
  ]
}